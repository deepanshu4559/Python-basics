{
  "nbformat": 4,
  "nbformat_minor": 0,
  "metadata": {
    "colab": {
      "provenance": []
    },
    "kernelspec": {
      "name": "python3",
      "display_name": "Python 3"
    },
    "language_info": {
      "name": "python"
    }
  },
  "cells": [
    {
      "cell_type": "markdown",
      "source": [
        "# Theory Questions"
      ],
      "metadata": {
        "id": "Ifyccu5EPX5E"
      }
    },
    {
      "cell_type": "markdown",
      "source": [
        "1. What is Python, and why is it popular ?\n",
        "\n",
        "   - Python is a high-level interpreted programming language widely used for its flexibility, as well as its extensive collections of libraries, which are valuable for analytics and complex calculations.\n",
        "\n",
        "   Following are the key factors which tells, why it is popular -\n",
        "\n",
        "\n",
        "   * Easy of Learning and use - Easy syntax and Readability make it accesible for beginners and Professionals  \n",
        "   * Community supports and Libraries - eg Numpy, Pandas, Django etc\n",
        "   * Very Versatile - used in Web apps, Mpbile apps, AI, Data Science etc\n",
        "   * Multiple Paradigm - Object Oriented Programming, Functional Programming and Procedural Programming.\n",
        "   * Scalabilty and Integration - It can handle both small and large datastes and integrates well with big data technologies\n",
        "\n",
        "\n",
        "2. What is an interpreter in Python ?\n",
        "   - Interpreters are the computer program that will convert the source code or an high level language into intermediate code (machine level language). It is also called translator in programming terminology. Interpreters executes each line of statements slowly. This process is called interpretation.\n",
        "\n",
        "\n",
        "3. What are pre-defined keywords in Python ?\n",
        "   - Pre-defined Keywords in Python are reserved words that have special meaning and functionalities within the language. These words are the integral part of Python's syntax and cannot be used as identifiers. eg. if, else, for, import etc.\n",
        "\n",
        "4.  Can keywords be used as variable names ?\n",
        "    - No, keywords cannot be used as identifiers in programming language because they are reserved words with a special, predefined meaning and functions.\n",
        "\n",
        "5.  What is mutability in Python ?\n",
        "\n",
        "    - in Python, Mutablity means whether the value of an object can be changed (modified) after it is created.\n",
        "\n",
        "6.  Why are lists mutable, but tuples are immutable ?\n",
        "\n",
        "    - In Python, lists and tuples are both sequence data types, but they differ fundamentally in their mutability. Lists are mutable, meaning their contents can be modified after creation, while tuples are immutable, meaning their contents cannot be changed once defined.\n",
        "\n",
        "7.   What is the difference between “==” and “is” operators in Python ?\n",
        "    \n",
        "     - In Python, \"==\" and \"is\" operators used for comparison.\n",
        "\n",
        "      * \"==\" Operator (comparison operator)\n",
        "         used to checks, if the values of two objects are equal or not,return boolean value.\n",
        "      * \"is\" Operator (identity operator)\n",
        "         used to checks if two objects refer to the same memory location or not, and return boolean value.\n",
        "\n",
        "8.   What are logical operators in Python ?\n",
        "\n",
        "     - In Pyhton, Logical Operators are used to combine conditions (True/False) statements. They return either True or False depending on the conditions.\n",
        "\n",
        "     There are 3 Logical Operator in Python:\n",
        "     And - returns True if both the statements is true.\n",
        "     OR  - returns True of at least one conditions is true.\n",
        "     not - reverse the result.\n",
        "9.   What is type casting in Python ?\n",
        "     - Type Casting in Python refers to the process of converting one data type into another. This is often done to ensure compatibility between different data types during operations or to meet specific requirements in a program.\n",
        "\n",
        "10.   What is the difference between implicit and explicit type casting ?\n",
        "\n",
        "      - Implicit Type Casting: Python automatically converts one data type to another without user intervention.\n",
        "      - Explicit Type Casting: The programmer manually converts a data type using Python's built-in functions.\n",
        "\n",
        "11.    What is the purpose of conditional statements in Python ?\n",
        "        \n",
        "        - Conditional statements in Python are used to control the flow of a program by executing specific blocks of code based on whether certain conditions are true or false. They allow programs to make decisions and behave differently in various situations.\n",
        "\n",
        "12.    How does the elif statement work ?\n",
        "\n",
        "       - The elif statement in Python is short for \"else if\". It is used in decision making when you need to check multiple conditions, If the \"if condition\" is false, Python checks the elif conditions one by one until it finds one the that is true. if none are true, the else block runs.\n",
        "\n",
        "13.   What is the difference between for and while loops ?\n",
        "\n",
        "      - The differences between for and while loop:\n",
        "       \n",
        "       * \"for loop\" is used when you know the number of iteration in advance, while \"while loop\" is used when you don't know the number of iteration and want to loop until a condition is False.\n",
        "\n",
        "       * \"for loop\" works with sequence like (list, tuple, string, range(), etc), while \"while loop\" works with a condition that must be True to continue.  \n",
        "       \n",
        "       * \"for loop\" ends when the sequence is finished, while \"while loop\" ends when the condition becomes False.\n",
        "\n",
        "14.    Describe a scenario where a while loop is more suitable than a for loop   \n",
        "\n",
        "       - while loop is best when we don't know how many inputs the user will give. the loop must keep running until a specific condition will met. In that case one of the best scenario is \"ATM PIN verification system\"\n",
        "\n",
        "       Explantion: Suppose you are writting a program for an ATM where the user has to enter the correct PIN.\n",
        "\n",
        "       In this case we don't know how many times the user will enter the PIN.\n",
        "\n",
        "       The Loop should continue until the correct PIN is entered or attempts run out.\n",
        "\n",
        "      \n",
        "\n",
        "\n",
        "\n"
      ],
      "metadata": {
        "id": "iMKGxg3dPwdi"
      }
    },
    {
      "cell_type": "markdown",
      "source": [],
      "metadata": {
        "id": "RnskzGgTZnCW"
      }
    },
    {
      "cell_type": "markdown",
      "source": [
        "# Practical Questions"
      ],
      "metadata": {
        "id": "uUeOSBpaD86D"
      }
    },
    {
      "cell_type": "code",
      "execution_count": 1,
      "metadata": {
        "id": "IS7P1Kc8M7g6",
        "colab": {
          "base_uri": "https://localhost:8080/"
        },
        "outputId": "a2623066-e917-4800-fc60-1c3d53a9ae54"
      },
      "outputs": [
        {
          "output_type": "stream",
          "name": "stdout",
          "text": [
            "Hello, World!!\n"
          ]
        }
      ],
      "source": [
        "# 1. Write a Python program to print \"Hello, world!!\"\n",
        "\n",
        "Name = \"Hello, World!!\"\n",
        "print(Name)\n",
        "\n"
      ]
    },
    {
      "cell_type": "code",
      "source": [
        "# 2. Write a Python program that displays your name and age.\n",
        "\n",
        "Name = \"Deepanshu\"\n",
        "Age = 27\n",
        "print(\"My name is\", Name)\n",
        "print(\"My age is\", Age)\n"
      ],
      "metadata": {
        "colab": {
          "base_uri": "https://localhost:8080/"
        },
        "id": "AOTf61oSFZ-X",
        "outputId": "7f265cbd-46f4-4bb2-cc5d-95a7d27ef3c3"
      },
      "execution_count": 2,
      "outputs": [
        {
          "output_type": "stream",
          "name": "stdout",
          "text": [
            "My name is Deepanshu\n",
            "My age is 27\n"
          ]
        }
      ]
    },
    {
      "cell_type": "code",
      "source": [
        "# 3.  Write code to print all the pre-defined keywords in Python using the keyword library.\n",
        "\n",
        "import keyword\n",
        "\n",
        "print(\"The pre-defined Keywords in python are:\")\n",
        "print(keyword.kwlist)   # here we going to access keyword module by kwlist (a list variable) which is defined in keyword module.\n"
      ],
      "metadata": {
        "colab": {
          "base_uri": "https://localhost:8080/"
        },
        "id": "3IOd3U0iGljW",
        "outputId": "6c043acc-c5bb-42e2-d31d-93e629965345"
      },
      "execution_count": 3,
      "outputs": [
        {
          "output_type": "stream",
          "name": "stdout",
          "text": [
            "The pre-defined Keywords in python are:\n",
            "['False', 'None', 'True', 'and', 'as', 'assert', 'async', 'await', 'break', 'class', 'continue', 'def', 'del', 'elif', 'else', 'except', 'finally', 'for', 'from', 'global', 'if', 'import', 'in', 'is', 'lambda', 'nonlocal', 'not', 'or', 'pass', 'raise', 'return', 'try', 'while', 'with', 'yield']\n"
          ]
        }
      ]
    },
    {
      "cell_type": "code",
      "source": [
        "# 4. Write a program that checks if a given word is a Python keyword.\n",
        "\n",
        "import keyword\n",
        "\n",
        "word = input(\"Enter the word: \")\n",
        "if keyword.iskeyword(word):               # iskeyword() function is built-in function in keyword module which checks whether a string variable is a python keyword or not.\n",
        "  print(word,\"is a Python keyword \")\n",
        "else:\n",
        "  print(word,\"is not Python keyword \")\n"
      ],
      "metadata": {
        "colab": {
          "base_uri": "https://localhost:8080/"
        },
        "id": "hjTBPwFoK3v9",
        "outputId": "3be7c443-1bef-40f3-9a36-d66cb8578789"
      },
      "execution_count": 4,
      "outputs": [
        {
          "output_type": "stream",
          "name": "stdout",
          "text": [
            "Enter the word: for\n",
            "for is a Python keyword \n"
          ]
        }
      ]
    },
    {
      "cell_type": "code",
      "source": [
        "# 5. Create a list and tuple in Python, and demonstrate how attempting to change an element works differently for each.\n",
        "\n",
        "# first create list and tuple\n",
        "my_list = [1, 2, 4.5, \"Deepanshu\"]\n",
        "my_tuple = (1, 2, 4.5, \"Deepanshu\")\n",
        "\n",
        "print(\"original list\", my_list)\n",
        "print(\"original tuple\", my_tuple)\n",
        "\n"
      ],
      "metadata": {
        "colab": {
          "base_uri": "https://localhost:8080/"
        },
        "id": "oNdxEwSsOV9X",
        "outputId": "2f8a2088-5916-4c49-f061-5f805c4e2c15"
      },
      "execution_count": 5,
      "outputs": [
        {
          "output_type": "stream",
          "name": "stdout",
          "text": [
            "original list [1, 2, 4.5, 'Deepanshu']\n",
            "original tuple (1, 2, 4.5, 'Deepanshu')\n"
          ]
        }
      ]
    },
    {
      "cell_type": "code",
      "source": [
        "# change list elements\n",
        "my_list[2] = 500\n",
        "print(\"modified list\", my_list)"
      ],
      "metadata": {
        "colab": {
          "base_uri": "https://localhost:8080/"
        },
        "id": "JlSj2bYOR84E",
        "outputId": "732dec9c-e9ae-4386-b8f5-cbd5b5549a6e"
      },
      "execution_count": 6,
      "outputs": [
        {
          "output_type": "stream",
          "name": "stdout",
          "text": [
            "modified list [1, 2, 500, 'Deepanshu']\n"
          ]
        }
      ]
    },
    {
      "cell_type": "code",
      "source": [
        "# try to change tuple elements\n",
        "\n",
        "my_tuple[2] = 500\n",
        "print(\"modified tuple\", my_tuple)    # note: tuple are immutable, once created its elements won't change.\n"
      ],
      "metadata": {
        "colab": {
          "base_uri": "https://localhost:8080/",
          "height": 193
        },
        "id": "T9SR9E-WStF7",
        "outputId": "27456726-ab29-488a-ee20-63e9c7a98e36"
      },
      "execution_count": 7,
      "outputs": [
        {
          "output_type": "error",
          "ename": "TypeError",
          "evalue": "'tuple' object does not support item assignment",
          "traceback": [
            "\u001b[0;31m---------------------------------------------------------------------------\u001b[0m",
            "\u001b[0;31mTypeError\u001b[0m                                 Traceback (most recent call last)",
            "\u001b[0;32m/tmp/ipython-input-1004789529.py\u001b[0m in \u001b[0;36m<cell line: 0>\u001b[0;34m()\u001b[0m\n\u001b[1;32m      1\u001b[0m \u001b[0;31m# try to change tuple elements\u001b[0m\u001b[0;34m\u001b[0m\u001b[0;34m\u001b[0m\u001b[0m\n\u001b[1;32m      2\u001b[0m \u001b[0;34m\u001b[0m\u001b[0m\n\u001b[0;32m----> 3\u001b[0;31m \u001b[0mmy_tuple\u001b[0m\u001b[0;34m[\u001b[0m\u001b[0;36m2\u001b[0m\u001b[0;34m]\u001b[0m \u001b[0;34m=\u001b[0m \u001b[0;36m500\u001b[0m\u001b[0;34m\u001b[0m\u001b[0;34m\u001b[0m\u001b[0m\n\u001b[0m\u001b[1;32m      4\u001b[0m \u001b[0mprint\u001b[0m\u001b[0;34m(\u001b[0m\u001b[0;34m\"modified tuple\"\u001b[0m\u001b[0;34m,\u001b[0m \u001b[0mmy_tuple\u001b[0m\u001b[0;34m)\u001b[0m\u001b[0;34m\u001b[0m\u001b[0;34m\u001b[0m\u001b[0m\n",
            "\u001b[0;31mTypeError\u001b[0m: 'tuple' object does not support item assignment"
          ]
        }
      ]
    },
    {
      "cell_type": "code",
      "source": [
        "# 6.  Write a function to demonstrate the behavior of mutable and immutable arguments.\n",
        "\n",
        "x = 5\n",
        "y = [1, 2, 3]\n",
        "\n",
        "print(\"Before function call:\")\n",
        "print(\"x:\", x)\n",
        "print(\"y:\", y)\n",
        "\n",
        "def fun(num, my_list):\n",
        "  num = num + 10\n",
        "  my_list.append(10)\n",
        "\n",
        "  print(\"\\nInside function:\")\n",
        "  print(\"num:\", num)\n",
        "  print(\"my_list:\", my_list)\n",
        "\n",
        "fun(x, y)\n",
        "\n",
        "print(\"\\nAfter function call:\")\n",
        "print(\"x:\", x)                       # here \"x\" will remain unchaged >> immutable value\n",
        "print(\"y:\", y)                       # here \"y\" changed >> mutable value"
      ],
      "metadata": {
        "colab": {
          "base_uri": "https://localhost:8080/"
        },
        "id": "xNkGTJunEVuA",
        "outputId": "07e27776-9e02-4e53-a0dc-7715b5c15e5f"
      },
      "execution_count": 11,
      "outputs": [
        {
          "output_type": "stream",
          "name": "stdout",
          "text": [
            "Before function call:\n",
            "x: 5\n",
            "y: [1, 2, 3]\n",
            "\n",
            "Inside function:\n",
            "num: 15\n",
            "my_list: [1, 2, 3, 10]\n",
            "\n",
            "After function call:\n",
            "x: 5\n",
            "y: [1, 2, 3, 10]\n"
          ]
        }
      ]
    },
    {
      "cell_type": "code",
      "source": [
        "# 7. write a program that performs basic arithmetic operations on two user-input numbers.\n",
        "\n",
        "num1 = float(input(\"Enter the first number: \"))\n",
        "num2 = float(input(\"Enter the second number: \"))\n",
        "\n",
        "add = num1 + num2\n",
        "sub =  num1 - num2\n",
        "mul = num1 * num2\n",
        "div = num1 / num2\n",
        "\n",
        "print(\"Your result is:\", add)\n",
        "print(\"Your result is:\", sub)\n",
        "print(\"Your result is:\", mul)\n",
        "print(\"Your result is:\", div)\n",
        ""
      ],
      "metadata": {
        "colab": {
          "base_uri": "https://localhost:8080/"
        },
        "id": "54RksPXzTrFj",
        "outputId": "a35a480d-3c37-4259-9bdc-17a71c5c2ae3"
      },
      "execution_count": 10,
      "outputs": [
        {
          "output_type": "stream",
          "name": "stdout",
          "text": [
            "Enter the first number: 23\n",
            "Enter the second number: 2\n",
            "Your result is: 25.0\n",
            "Your result is: 21.0\n",
            "Your result is: 46.0\n",
            "Your result is: 11.5\n"
          ]
        }
      ]
    },
    {
      "cell_type": "code",
      "source": [
        "# 8. Write a program to demonstrate the use of logical operators.\n",
        "\n",
        "a = True\n",
        "b = False\n",
        "\n",
        "print(\" a and b : \", a and b ) # (use of and operator) True only if both a and b are True.\n",
        "\n",
        "print(\"a or b: \", a or b ) # (use of or operator) True if at least one is true.\n",
        "\n",
        "print(\"not a:\", not a) # (use of not operator) reverse the value of variable \"a\"\n",
        "print(\"not b:\", not b)\n"
      ],
      "metadata": {
        "colab": {
          "base_uri": "https://localhost:8080/"
        },
        "id": "IxYFEFzAYtx1",
        "outputId": "0cf92216-adbd-4ee5-993c-ef40d45f7e49"
      },
      "execution_count": 1,
      "outputs": [
        {
          "output_type": "stream",
          "name": "stdout",
          "text": [
            " a and b :  False\n",
            "a or b:  True\n",
            "not a: False\n",
            "not b: True\n"
          ]
        }
      ]
    },
    {
      "cell_type": "code",
      "source": [
        "# 9. Write a Python program to convert user input from string to integer, float, and boolean types.\n",
        "\n",
        "user_input = input(\"Enter string value: \")\n",
        "\n",
        "value1 = int(user_input)\n",
        "print(\"Integer value:\", value1)\n",
        "\n",
        "value2 = float(user_input)\n",
        "print(\"Float value:\", value2)\n",
        "\n",
        "value3 = bool(user_input)\n",
        "print(\"Boolean value:\", value3)\n",
        "\n",
        "\n",
        "\n"
      ],
      "metadata": {
        "colab": {
          "base_uri": "https://localhost:8080/"
        },
        "id": "3sX-Tz7tvOiJ",
        "outputId": "a502ab03-0567-4edf-dc40-7e99a3c1781e"
      },
      "execution_count": 9,
      "outputs": [
        {
          "output_type": "stream",
          "name": "stdout",
          "text": [
            "Enter string value: 5\n",
            "Integer value: 5\n",
            "Float value: 5.0\n",
            "Boolean value: True\n"
          ]
        }
      ]
    },
    {
      "cell_type": "code",
      "source": [
        "# 10. Write code to demonstrate type casting with list elements.\n",
        "\n",
        "original_list = [\"10\",\"20\",\"30\",\"40\"]\n",
        "print(\"Original string list:\", original_list)\n",
        "\n",
        "int_list = [int(x) for x in original_list]\n",
        "print(\"Integer list:\", int_list)\n",
        "\n",
        "float_list = [float(x) for x in original_list]\n",
        "print(\"Float list:\", float_list)\n",
        "\n",
        "bool_list = [bool(x) for x in original_list]\n",
        "print(\"Boolean list:\", bool_list)\n"
      ],
      "metadata": {
        "colab": {
          "base_uri": "https://localhost:8080/"
        },
        "id": "Qr_Fg9UbwWp0",
        "outputId": "45b824cd-7b95-4625-a9d4-7ce9e2f2ff0d"
      },
      "execution_count": 10,
      "outputs": [
        {
          "output_type": "stream",
          "name": "stdout",
          "text": [
            "Original string list: ['10', '20', '30', '40']\n",
            "Integer list: [10, 20, 30, 40]\n",
            "Float list: [10.0, 20.0, 30.0, 40.0]\n",
            "Boolean list: [True, True, True, True]\n"
          ]
        }
      ]
    },
    {
      "cell_type": "code",
      "source": [
        "# 11.  Write a program that checks if a number is positive, negative, or zero.\n",
        "\n",
        "num = float(input(\"Enter a number: \"))\n",
        "\n",
        "if num > 0:\n",
        "  print(\"The number is positive.\")\n",
        "elif num < 0:\n",
        "  print(\"The number is negative.\")\n",
        "else:\n",
        "  print(\"The number is zero.\")"
      ],
      "metadata": {
        "colab": {
          "base_uri": "https://localhost:8080/"
        },
        "id": "jeVfMbFazdp7",
        "outputId": "0f37bb14-c700-4cd3-ebb2-f858b3ad7c52"
      },
      "execution_count": 4,
      "outputs": [
        {
          "output_type": "stream",
          "name": "stdout",
          "text": [
            "Enter a number: 6\n",
            "The number is positive.\n"
          ]
        }
      ]
    },
    {
      "cell_type": "code",
      "source": [
        "# 12.  Write a for loop to print numbers from 1 to 10.\n",
        "\n",
        "for i in range(1,11):\n",
        "  print(i)"
      ],
      "metadata": {
        "colab": {
          "base_uri": "https://localhost:8080/"
        },
        "id": "_W490wna1ZCs",
        "outputId": "ec66fb65-5e9d-4ddf-c7ab-755cd0f502b3"
      },
      "execution_count": 5,
      "outputs": [
        {
          "output_type": "stream",
          "name": "stdout",
          "text": [
            "1\n",
            "2\n",
            "3\n",
            "4\n",
            "5\n",
            "6\n",
            "7\n",
            "8\n",
            "9\n",
            "10\n"
          ]
        }
      ]
    },
    {
      "cell_type": "code",
      "source": [
        "# 13. Write a Python program to find the sum of all even numbers between 1 and 50.\n",
        "\n",
        "sum = 0\n",
        "\n",
        "for i in range(1, 51):\n",
        "  if i % 2 == 0:\n",
        "    sum += i\n",
        "\n",
        "print(\"Sum of all even number:\", sum)\n",
        ""
      ],
      "metadata": {
        "colab": {
          "base_uri": "https://localhost:8080/"
        },
        "id": "aY6Mpja42N0y",
        "outputId": "f803e4f2-0818-4f96-9994-73e1bd1e2289"
      },
      "execution_count": 6,
      "outputs": [
        {
          "output_type": "stream",
          "name": "stdout",
          "text": [
            "Sum of all even number: 650\n"
          ]
        }
      ]
    },
    {
      "cell_type": "code",
      "source": [
        "# 14. Write a program to reverse a string using a while loop.\n",
        "\n",
        "text = input(\"Enter the string: \")\n",
        "\n",
        "reverse_str = \"\"\n",
        "i = len(text) - 1\n",
        "\n",
        "while i >= 0:\n",
        "  reverse_str += text[i]\n",
        "  i -= 1\n",
        "\n",
        "print(\"Reversed string is:\", reverse_str)"
      ],
      "metadata": {
        "colab": {
          "base_uri": "https://localhost:8080/"
        },
        "id": "XlHrJjWv4BGF",
        "outputId": "f177d7f2-114b-4a85-9742-9a4769d5fada"
      },
      "execution_count": 7,
      "outputs": [
        {
          "output_type": "stream",
          "name": "stdout",
          "text": [
            "Enter the string: Deepanshu\n",
            "Reversed string is: uhsnapeeD\n"
          ]
        }
      ]
    },
    {
      "cell_type": "code",
      "source": [
        "# 15. Write a Python program to calculate the factorial of a number provided by the user using a while loop.\n",
        "\n",
        "num = int(input(\"Enter the number: \"))\n",
        "fact = 1\n",
        "i = 1\n",
        "\n",
        "while i <= num:\n",
        "  fact *= i\n",
        "  i += 1\n",
        "\n",
        "print(f\"The factorial of {num} is: {fact} \")\n"
      ],
      "metadata": {
        "colab": {
          "base_uri": "https://localhost:8080/"
        },
        "id": "mceJeW4V6zVs",
        "outputId": "0ad1408d-7d03-4bd0-a0b3-bed11860c338"
      },
      "execution_count": 8,
      "outputs": [
        {
          "output_type": "stream",
          "name": "stdout",
          "text": [
            "Enter the number: 6\n",
            "The factorial of 6 is: 720 \n"
          ]
        }
      ]
    }
  ]
}